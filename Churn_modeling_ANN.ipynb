{
 "cells": [
  {
   "cell_type": "code",
   "execution_count": 6,
   "metadata": {},
   "outputs": [],
   "source": [
    "import os\n",
    "os.chdir(\"C:/Users/hp/Desktop\")\n",
    "import pandas as pd\n",
    "import numpy as np\n",
    "\n",
    "from sklearn.preprocessing import LabelEncoder,OneHotEncoder\n",
    "from sklearn.compose import ColumnTransformer # Here is the one\n",
    "\n",
    "\n",
    "from sklearn.model_selection import train_test_split\n",
    "\n",
    "import keras\n",
    "from keras.models import Sequential\n",
    "from keras.layers import Dense\n",
    "\n",
    "from sklearn.metrics import confusion_matrix\n"
   ]
  },
  {
   "cell_type": "code",
   "execution_count": 7,
   "metadata": {},
   "outputs": [],
   "source": [
    "df = pd.read_csv(\"Churn_Modelling.csv\")"
   ]
  },
  {
   "cell_type": "code",
   "execution_count": 8,
   "metadata": {},
   "outputs": [
    {
     "data": {
      "text/html": [
       "<div>\n",
       "<style scoped>\n",
       "    .dataframe tbody tr th:only-of-type {\n",
       "        vertical-align: middle;\n",
       "    }\n",
       "\n",
       "    .dataframe tbody tr th {\n",
       "        vertical-align: top;\n",
       "    }\n",
       "\n",
       "    .dataframe thead th {\n",
       "        text-align: right;\n",
       "    }\n",
       "</style>\n",
       "<table border=\"1\" class=\"dataframe\">\n",
       "  <thead>\n",
       "    <tr style=\"text-align: right;\">\n",
       "      <th></th>\n",
       "      <th>RowNumber</th>\n",
       "      <th>CustomerId</th>\n",
       "      <th>Surname</th>\n",
       "      <th>CreditScore</th>\n",
       "      <th>Geography</th>\n",
       "      <th>Gender</th>\n",
       "      <th>Age</th>\n",
       "      <th>Tenure</th>\n",
       "      <th>Balance</th>\n",
       "      <th>NumOfProducts</th>\n",
       "      <th>HasCrCard</th>\n",
       "      <th>IsActiveMember</th>\n",
       "      <th>EstimatedSalary</th>\n",
       "      <th>Exited</th>\n",
       "    </tr>\n",
       "  </thead>\n",
       "  <tbody>\n",
       "    <tr>\n",
       "      <th>0</th>\n",
       "      <td>1</td>\n",
       "      <td>15634602</td>\n",
       "      <td>Hargrave</td>\n",
       "      <td>619</td>\n",
       "      <td>France</td>\n",
       "      <td>Female</td>\n",
       "      <td>42</td>\n",
       "      <td>2</td>\n",
       "      <td>0.00</td>\n",
       "      <td>1</td>\n",
       "      <td>1</td>\n",
       "      <td>1</td>\n",
       "      <td>101348.88</td>\n",
       "      <td>1</td>\n",
       "    </tr>\n",
       "    <tr>\n",
       "      <th>1</th>\n",
       "      <td>2</td>\n",
       "      <td>15647311</td>\n",
       "      <td>Hill</td>\n",
       "      <td>608</td>\n",
       "      <td>Spain</td>\n",
       "      <td>Female</td>\n",
       "      <td>41</td>\n",
       "      <td>1</td>\n",
       "      <td>83807.86</td>\n",
       "      <td>1</td>\n",
       "      <td>0</td>\n",
       "      <td>1</td>\n",
       "      <td>112542.58</td>\n",
       "      <td>0</td>\n",
       "    </tr>\n",
       "    <tr>\n",
       "      <th>2</th>\n",
       "      <td>3</td>\n",
       "      <td>15619304</td>\n",
       "      <td>Onio</td>\n",
       "      <td>502</td>\n",
       "      <td>France</td>\n",
       "      <td>Female</td>\n",
       "      <td>42</td>\n",
       "      <td>8</td>\n",
       "      <td>159660.80</td>\n",
       "      <td>3</td>\n",
       "      <td>1</td>\n",
       "      <td>0</td>\n",
       "      <td>113931.57</td>\n",
       "      <td>1</td>\n",
       "    </tr>\n",
       "    <tr>\n",
       "      <th>3</th>\n",
       "      <td>4</td>\n",
       "      <td>15701354</td>\n",
       "      <td>Boni</td>\n",
       "      <td>699</td>\n",
       "      <td>France</td>\n",
       "      <td>Female</td>\n",
       "      <td>39</td>\n",
       "      <td>1</td>\n",
       "      <td>0.00</td>\n",
       "      <td>2</td>\n",
       "      <td>0</td>\n",
       "      <td>0</td>\n",
       "      <td>93826.63</td>\n",
       "      <td>0</td>\n",
       "    </tr>\n",
       "    <tr>\n",
       "      <th>4</th>\n",
       "      <td>5</td>\n",
       "      <td>15737888</td>\n",
       "      <td>Mitchell</td>\n",
       "      <td>850</td>\n",
       "      <td>Spain</td>\n",
       "      <td>Female</td>\n",
       "      <td>43</td>\n",
       "      <td>2</td>\n",
       "      <td>125510.82</td>\n",
       "      <td>1</td>\n",
       "      <td>1</td>\n",
       "      <td>1</td>\n",
       "      <td>79084.10</td>\n",
       "      <td>0</td>\n",
       "    </tr>\n",
       "  </tbody>\n",
       "</table>\n",
       "</div>"
      ],
      "text/plain": [
       "   RowNumber  CustomerId   Surname  CreditScore Geography  Gender  Age  \\\n",
       "0          1    15634602  Hargrave          619    France  Female   42   \n",
       "1          2    15647311      Hill          608     Spain  Female   41   \n",
       "2          3    15619304      Onio          502    France  Female   42   \n",
       "3          4    15701354      Boni          699    France  Female   39   \n",
       "4          5    15737888  Mitchell          850     Spain  Female   43   \n",
       "\n",
       "   Tenure    Balance  NumOfProducts  HasCrCard  IsActiveMember  \\\n",
       "0       2       0.00              1          1               1   \n",
       "1       1   83807.86              1          0               1   \n",
       "2       8  159660.80              3          1               0   \n",
       "3       1       0.00              2          0               0   \n",
       "4       2  125510.82              1          1               1   \n",
       "\n",
       "   EstimatedSalary  Exited  \n",
       "0        101348.88       1  \n",
       "1        112542.58       0  \n",
       "2        113931.57       1  \n",
       "3         93826.63       0  \n",
       "4         79084.10       0  "
      ]
     },
     "execution_count": 8,
     "metadata": {},
     "output_type": "execute_result"
    }
   ],
   "source": [
    "df.head()"
   ]
  },
  {
   "cell_type": "code",
   "execution_count": 9,
   "metadata": {},
   "outputs": [],
   "source": [
    "X = df.iloc[:, 3:13].values\n",
    "y = df.iloc[:, 13].values"
   ]
  },
  {
   "cell_type": "code",
   "execution_count": 10,
   "metadata": {},
   "outputs": [
    {
     "data": {
      "text/plain": [
       "array([[619, 'France', 'Female', ..., 1, 1, 101348.88],\n",
       "       [608, 'Spain', 'Female', ..., 0, 1, 112542.58],\n",
       "       [502, 'France', 'Female', ..., 1, 0, 113931.57],\n",
       "       ...,\n",
       "       [709, 'France', 'Female', ..., 0, 1, 42085.58],\n",
       "       [772, 'Germany', 'Male', ..., 1, 0, 92888.52],\n",
       "       [792, 'France', 'Female', ..., 1, 0, 38190.78]], dtype=object)"
      ]
     },
     "execution_count": 10,
     "metadata": {},
     "output_type": "execute_result"
    }
   ],
   "source": [
    "X"
   ]
  },
  {
   "cell_type": "code",
   "execution_count": 11,
   "metadata": {},
   "outputs": [],
   "source": [
    "from sklearn.preprocessing import LabelEncoder,OneHotEncoder\n",
    "from sklearn.compose import ColumnTransformer # Here is the one\n",
    "\n",
    "labelencoder_X_1 = LabelEncoder()\n",
    "X[:, 1] = labelencoder_X_1.fit_transform(X[:, 1])\n",
    "\n",
    "labelencoder_X_2 = LabelEncoder()\n",
    "X[:, 2] = labelencoder_X_2.fit_transform(X[:, 2])"
   ]
  },
  {
   "cell_type": "code",
   "execution_count": 12,
   "metadata": {},
   "outputs": [],
   "source": [
    "ct = ColumnTransformer([(\"Country\", OneHotEncoder(), [1])], remainder = 'passthrough')\n",
    "\n",
    "X = ct.fit_transform(X)\n",
    "X = X[:, 1:]\n"
   ]
  },
  {
   "cell_type": "code",
   "execution_count": 13,
   "metadata": {},
   "outputs": [
    {
     "data": {
      "text/plain": [
       "array([[0.0, 0.0, 619, ..., 1, 1, 101348.88],\n",
       "       [0.0, 1.0, 608, ..., 0, 1, 112542.58],\n",
       "       [0.0, 0.0, 502, ..., 1, 0, 113931.57],\n",
       "       ...,\n",
       "       [0.0, 0.0, 709, ..., 0, 1, 42085.58],\n",
       "       [1.0, 0.0, 772, ..., 1, 0, 92888.52],\n",
       "       [0.0, 0.0, 792, ..., 1, 0, 38190.78]], dtype=object)"
      ]
     },
     "execution_count": 13,
     "metadata": {},
     "output_type": "execute_result"
    }
   ],
   "source": [
    "X"
   ]
  },
  {
   "cell_type": "code",
   "execution_count": 14,
   "metadata": {},
   "outputs": [],
   "source": [
    "from sklearn.model_selection import train_test_split\n",
    "X_train, X_test, y_train, y_test = train_test_split(X, y, test_size = 0.2, random_state = 0)\n"
   ]
  },
  {
   "cell_type": "code",
   "execution_count": 15,
   "metadata": {},
   "outputs": [],
   "source": [
    "from sklearn.preprocessing import StandardScaler\n",
    "sc = StandardScaler()\n",
    "X_train = sc.fit_transform(X_train)\n",
    "X_test = sc.transform(X_test)\n"
   ]
  },
  {
   "cell_type": "code",
   "execution_count": 16,
   "metadata": {},
   "outputs": [
    {
     "name": "stdout",
     "output_type": "stream",
     "text": [
      "Epoch 1/100\n",
      "8000/8000 [==============================] - 6s 694us/step - loss: 0.4791 - acc: 0.7960\n",
      "Epoch 2/100\n",
      "8000/8000 [==============================] - 3s 402us/step - loss: 0.4263 - acc: 0.7960\n",
      "Epoch 3/100\n",
      "8000/8000 [==============================] - 3s 403us/step - loss: 0.4203 - acc: 0.8067\n",
      "Epoch 4/100\n",
      "8000/8000 [==============================] - 3s 386us/step - loss: 0.4171 - acc: 0.8242\n",
      "Epoch 5/100\n",
      "8000/8000 [==============================] - 3s 401us/step - loss: 0.4148 - acc: 0.8279\n",
      "Epoch 6/100\n",
      "8000/8000 [==============================] - 3s 421us/step - loss: 0.4133 - acc: 0.8294\n",
      "Epoch 7/100\n",
      "8000/8000 [==============================] - 3s 432us/step - loss: 0.4118 - acc: 0.8306\n",
      "Epoch 8/100\n",
      "8000/8000 [==============================] - 3s 397us/step - loss: 0.4107 - acc: 0.8339\n",
      "Epoch 9/100\n",
      "8000/8000 [==============================] - 3s 388us/step - loss: 0.4098 - acc: 0.8322\n",
      "Epoch 10/100\n",
      "8000/8000 [==============================] - 3s 384us/step - loss: 0.4087 - acc: 0.8337\n",
      "Epoch 11/100\n",
      "8000/8000 [==============================] - 3s 390us/step - loss: 0.4079 - acc: 0.8329\n",
      "Epoch 12/100\n",
      "8000/8000 [==============================] - 3s 387us/step - loss: 0.4076 - acc: 0.8334\n",
      "Epoch 13/100\n",
      "8000/8000 [==============================] - 3s 393us/step - loss: 0.4062 - acc: 0.8346\n",
      "Epoch 14/100\n",
      "8000/8000 [==============================] - ETA: 0s - loss: 0.4069 - acc: 0.835 - 3s 395us/step - loss: 0.4066 - acc: 0.8355\n",
      "Epoch 15/100\n",
      "8000/8000 [==============================] - 3s 415us/step - loss: 0.4057 - acc: 0.8349\n",
      "Epoch 16/100\n",
      "8000/8000 [==============================] - 3s 419us/step - loss: 0.4055 - acc: 0.8339\n",
      "Epoch 17/100\n",
      "8000/8000 [==============================] - 3s 420us/step - loss: 0.4053 - acc: 0.8329\n",
      "Epoch 18/100\n",
      "8000/8000 [==============================] - 3s 399us/step - loss: 0.4048 - acc: 0.8337\n",
      "Epoch 19/100\n",
      "8000/8000 [==============================] - 3s 396us/step - loss: 0.4039 - acc: 0.8352\n",
      "Epoch 20/100\n",
      "8000/8000 [==============================] - 3s 424us/step - loss: 0.4042 - acc: 0.8347\n",
      "Epoch 21/100\n",
      "8000/8000 [==============================] - 3s 436us/step - loss: 0.4040 - acc: 0.8354\n",
      "Epoch 22/100\n",
      "8000/8000 [==============================] - 3s 412us/step - loss: 0.4037 - acc: 0.8346\n",
      "Epoch 23/100\n",
      "8000/8000 [==============================] - 3s 400us/step - loss: 0.4037 - acc: 0.8351\n",
      "Epoch 24/100\n",
      "8000/8000 [==============================] - 3s 413us/step - loss: 0.4034 - acc: 0.8351\n",
      "Epoch 25/100\n",
      "8000/8000 [==============================] - 3s 399us/step - loss: 0.4030 - acc: 0.8331\n",
      "Epoch 26/100\n",
      "8000/8000 [==============================] - 4s 462us/step - loss: 0.4032 - acc: 0.8350\n",
      "Epoch 27/100\n",
      "8000/8000 [==============================] - 3s 408us/step - loss: 0.4035 - acc: 0.8356\n",
      "Epoch 28/100\n",
      "8000/8000 [==============================] - 3s 423us/step - loss: 0.4024 - acc: 0.8350\n",
      "Epoch 29/100\n",
      "8000/8000 [==============================] - 3s 406us/step - loss: 0.4023 - acc: 0.8357\n",
      "Epoch 30/100\n",
      "8000/8000 [==============================] - 3s 378us/step - loss: 0.4028 - acc: 0.8340 0s - loss: 0.4047 - acc: 0.83\n",
      "Epoch 31/100\n",
      "8000/8000 [==============================] - 3s 395us/step - loss: 0.4027 - acc: 0.8335\n",
      "Epoch 32/100\n",
      "8000/8000 [==============================] - 3s 378us/step - loss: 0.4021 - acc: 0.8342\n",
      "Epoch 33/100\n",
      "8000/8000 [==============================] - 3s 382us/step - loss: 0.4027 - acc: 0.8337\n",
      "Epoch 34/100\n",
      "8000/8000 [==============================] - 3s 421us/step - loss: 0.4021 - acc: 0.8325\n",
      "Epoch 35/100\n",
      "8000/8000 [==============================] - 4s 446us/step - loss: 0.4019 - acc: 0.8344\n",
      "Epoch 36/100\n",
      "8000/8000 [==============================] - 3s 348us/step - loss: 0.4019 - acc: 0.8339\n",
      "Epoch 37/100\n",
      "8000/8000 [==============================] - 3s 416us/step - loss: 0.4024 - acc: 0.8349\n",
      "Epoch 38/100\n",
      "8000/8000 [==============================] - 4s 453us/step - loss: 0.4026 - acc: 0.8347\n",
      "Epoch 39/100\n",
      "8000/8000 [==============================] - 3s 430us/step - loss: 0.4014 - acc: 0.8341\n",
      "Epoch 40/100\n",
      "8000/8000 [==============================] - 3s 408us/step - loss: 0.4022 - acc: 0.8354\n",
      "Epoch 41/100\n",
      "8000/8000 [==============================] - 3s 409us/step - loss: 0.4018 - acc: 0.8357\n",
      "Epoch 42/100\n",
      "8000/8000 [==============================] - 4s 461us/step - loss: 0.4021 - acc: 0.8326\n",
      "Epoch 43/100\n",
      "8000/8000 [==============================] - 3s 380us/step - loss: 0.4014 - acc: 0.8335\n",
      "Epoch 44/100\n",
      "8000/8000 [==============================] - 3s 400us/step - loss: 0.4018 - acc: 0.8350\n",
      "Epoch 45/100\n",
      "8000/8000 [==============================] - 3s 394us/step - loss: 0.4015 - acc: 0.8357\n",
      "Epoch 46/100\n",
      "8000/8000 [==============================] - 4s 456us/step - loss: 0.4024 - acc: 0.8357\n",
      "Epoch 47/100\n",
      "8000/8000 [==============================] - 4s 467us/step - loss: 0.4008 - acc: 0.8344\n",
      "Epoch 48/100\n",
      "8000/8000 [==============================] - 4s 502us/step - loss: 0.4015 - acc: 0.8346\n",
      "Epoch 49/100\n",
      "8000/8000 [==============================] - 4s 491us/step - loss: 0.4019 - acc: 0.8355\n",
      "Epoch 50/100\n",
      "8000/8000 [==============================] - 3s 390us/step - loss: 0.4014 - acc: 0.8345\n",
      "Epoch 51/100\n",
      "8000/8000 [==============================] - 3s 376us/step - loss: 0.4014 - acc: 0.8350\n",
      "Epoch 52/100\n",
      "8000/8000 [==============================] - 4s 459us/step - loss: 0.4005 - acc: 0.8349\n",
      "Epoch 53/100\n",
      "8000/8000 [==============================] - 3s 392us/step - loss: 0.4015 - acc: 0.8349\n",
      "Epoch 54/100\n",
      "8000/8000 [==============================] - 3s 378us/step - loss: 0.4016 - acc: 0.8341\n",
      "Epoch 55/100\n",
      "8000/8000 [==============================] - 3s 376us/step - loss: 0.4014 - acc: 0.8349\n",
      "Epoch 56/100\n",
      "8000/8000 [==============================] - 3s 371us/step - loss: 0.4016 - acc: 0.8354\n",
      "Epoch 57/100\n",
      "8000/8000 [==============================] - 3s 399us/step - loss: 0.4014 - acc: 0.8357\n",
      "Epoch 58/100\n",
      "8000/8000 [==============================] - 3s 412us/step - loss: 0.4012 - acc: 0.8356\n",
      "Epoch 59/100\n",
      "8000/8000 [==============================] - 3s 398us/step - loss: 0.4015 - acc: 0.8352 1s - l\n",
      "Epoch 60/100\n",
      "8000/8000 [==============================] - 4s 449us/step - loss: 0.4015 - acc: 0.8349\n",
      "Epoch 61/100\n",
      "8000/8000 [==============================] - 3s 406us/step - loss: 0.4013 - acc: 0.8354\n",
      "Epoch 62/100\n",
      "8000/8000 [==============================] - 3s 424us/step - loss: 0.4012 - acc: 0.8341\n",
      "Epoch 63/100\n",
      "8000/8000 [==============================] - 4s 459us/step - loss: 0.4010 - acc: 0.8339\n",
      "Epoch 64/100\n",
      "8000/8000 [==============================] - 3s 432us/step - loss: 0.4009 - acc: 0.8340\n",
      "Epoch 65/100\n",
      "8000/8000 [==============================] - 3s 398us/step - loss: 0.4010 - acc: 0.8352\n",
      "Epoch 66/100\n",
      "8000/8000 [==============================] - 3s 346us/step - loss: 0.4012 - acc: 0.8342\n",
      "Epoch 67/100\n",
      "8000/8000 [==============================] - 3s 353us/step - loss: 0.4010 - acc: 0.8354\n",
      "Epoch 68/100\n",
      "8000/8000 [==============================] - 3s 354us/step - loss: 0.4015 - acc: 0.8342\n",
      "Epoch 69/100\n",
      "8000/8000 [==============================] - 3s 354us/step - loss: 0.4012 - acc: 0.8334\n",
      "Epoch 70/100\n",
      "8000/8000 [==============================] - 3s 344us/step - loss: 0.4007 - acc: 0.8356\n",
      "Epoch 71/100\n",
      "8000/8000 [==============================] - 3s 347us/step - loss: 0.4007 - acc: 0.8346\n",
      "Epoch 72/100\n",
      "8000/8000 [==============================] - 3s 345us/step - loss: 0.4013 - acc: 0.8356\n",
      "Epoch 73/100\n",
      "8000/8000 [==============================] - 3s 341us/step - loss: 0.4012 - acc: 0.8345\n",
      "Epoch 74/100\n",
      "8000/8000 [==============================] - 3s 330us/step - loss: 0.4007 - acc: 0.8351\n",
      "Epoch 75/100\n",
      "8000/8000 [==============================] - 3s 343us/step - loss: 0.4002 - acc: 0.8352\n",
      "Epoch 76/100\n",
      "8000/8000 [==============================] - 3s 370us/step - loss: 0.4007 - acc: 0.8351\n",
      "Epoch 77/100\n",
      "8000/8000 [==============================] - 3s 350us/step - loss: 0.4003 - acc: 0.8349\n",
      "Epoch 78/100\n",
      "8000/8000 [==============================] - 3s 348us/step - loss: 0.4012 - acc: 0.8340\n",
      "Epoch 79/100\n",
      "8000/8000 [==============================] - 3s 424us/step - loss: 0.4007 - acc: 0.8352\n",
      "Epoch 80/100\n",
      "8000/8000 [==============================] - 4s 472us/step - loss: 0.4004 - acc: 0.8350\n",
      "Epoch 81/100\n"
     ]
    },
    {
     "name": "stdout",
     "output_type": "stream",
     "text": [
      "8000/8000 [==============================] - 3s 396us/step - loss: 0.4010 - acc: 0.8354\n",
      "Epoch 82/100\n",
      "8000/8000 [==============================] - 3s 405us/step - loss: 0.4008 - acc: 0.8337\n",
      "Epoch 83/100\n",
      "8000/8000 [==============================] - 3s 401us/step - loss: 0.4011 - acc: 0.8359 0s - loss: 0.3994 - \n",
      "Epoch 84/100\n",
      "8000/8000 [==============================] - 3s 384us/step - loss: 0.4004 - acc: 0.8364\n",
      "Epoch 85/100\n",
      "8000/8000 [==============================] - 4s 439us/step - loss: 0.4006 - acc: 0.8340\n",
      "Epoch 86/100\n",
      "8000/8000 [==============================] - 4s 444us/step - loss: 0.4010 - acc: 0.8345\n",
      "Epoch 87/100\n",
      "8000/8000 [==============================] - 4s 450us/step - loss: 0.4004 - acc: 0.8359\n",
      "Epoch 88/100\n",
      "8000/8000 [==============================] - 4s 446us/step - loss: 0.4009 - acc: 0.8359 0s - loss: 0.4009 - ac\n",
      "Epoch 89/100\n",
      "8000/8000 [==============================] - 4s 445us/step - loss: 0.4007 - acc: 0.8350\n",
      "Epoch 90/100\n",
      "8000/8000 [==============================] - 3s 437us/step - loss: 0.4005 - acc: 0.8347\n",
      "Epoch 91/100\n",
      "8000/8000 [==============================] - 3s 379us/step - loss: 0.4005 - acc: 0.8342\n",
      "Epoch 92/100\n",
      "8000/8000 [==============================] - 3s 370us/step - loss: 0.4005 - acc: 0.8366\n",
      "Epoch 93/100\n",
      "8000/8000 [==============================] - 3s 383us/step - loss: 0.4005 - acc: 0.8344\n",
      "Epoch 94/100\n",
      "8000/8000 [==============================] - 3s 395us/step - loss: 0.4006 - acc: 0.8347\n",
      "Epoch 95/100\n",
      "8000/8000 [==============================] - 4s 441us/step - loss: 0.4003 - acc: 0.8346\n",
      "Epoch 96/100\n",
      "8000/8000 [==============================] - 4s 445us/step - loss: 0.4004 - acc: 0.8340\n",
      "Epoch 97/100\n",
      "8000/8000 [==============================] - 3s 404us/step - loss: 0.4009 - acc: 0.8367\n",
      "Epoch 98/100\n",
      "8000/8000 [==============================] - 3s 378us/step - loss: 0.4001 - acc: 0.8362\n",
      "Epoch 99/100\n",
      "8000/8000 [==============================] - 3s 360us/step - loss: 0.4005 - acc: 0.8356\n",
      "Epoch 100/100\n",
      "8000/8000 [==============================] - 3s 362us/step - loss: 0.4008 - acc: 0.8349\n"
     ]
    },
    {
     "data": {
      "text/plain": [
       "<keras.callbacks.History at 0x15089916588>"
      ]
     },
     "execution_count": 16,
     "metadata": {},
     "output_type": "execute_result"
    }
   ],
   "source": [
    "\n",
    "classifier = Sequential()\n",
    "\n",
    "# Adding the input layer and the first hidden layer\n",
    "classifier.add(Dense(units = 6, kernel_initializer = 'uniform', activation = 'relu', input_dim = 11))\n",
    "\n",
    "# Adding the second hidden layer\n",
    "classifier.add(Dense(units = 6, kernel_initializer = 'uniform', activation = 'relu'))\n",
    "\n",
    "# Adding the output layer\n",
    "classifier.add(Dense(units = 1, kernel_initializer = 'uniform', activation = 'sigmoid'))\n",
    "\n",
    "# Compiling the ANN\n",
    "classifier.compile(optimizer = 'adam', loss = 'binary_crossentropy', metrics = ['accuracy'])\n",
    "\n",
    "# Fitting the ANN to the Training set\n",
    "classifier.fit(X_train, y_train, batch_size = 10, epochs = 100)\n"
   ]
  },
  {
   "cell_type": "code",
   "execution_count": 19,
   "metadata": {},
   "outputs": [],
   "source": [
    "y_pred = classifier.predict(X_test)\n",
    "y_pred = (y_pred > 0.5)\n"
   ]
  },
  {
   "cell_type": "code",
   "execution_count": 20,
   "metadata": {},
   "outputs": [],
   "source": [
    "#from sklearn.metrics import confusion_matrix\n",
    "cm = confusion_matrix(y_test, y_pred)\n"
   ]
  },
  {
   "cell_type": "code",
   "execution_count": 21,
   "metadata": {},
   "outputs": [
    {
     "data": {
      "text/plain": [
       "array([[1551,   44],\n",
       "       [ 279,  126]], dtype=int64)"
      ]
     },
     "execution_count": 21,
     "metadata": {},
     "output_type": "execute_result"
    }
   ],
   "source": [
    "cm"
   ]
  },
  {
   "cell_type": "code",
   "execution_count": 22,
   "metadata": {},
   "outputs": [
    {
     "data": {
      "text/plain": [
       "array([[False],\n",
       "       [False],\n",
       "       [False],\n",
       "       ...,\n",
       "       [False],\n",
       "       [False],\n",
       "       [False]])"
      ]
     },
     "execution_count": 22,
     "metadata": {},
     "output_type": "execute_result"
    }
   ],
   "source": [
    "y_pred"
   ]
  },
  {
   "cell_type": "code",
   "execution_count": null,
   "metadata": {},
   "outputs": [],
   "source": []
  }
 ],
 "metadata": {
  "kernelspec": {
   "display_name": "Python 3",
   "language": "python",
   "name": "python3"
  },
  "language_info": {
   "codemirror_mode": {
    "name": "ipython",
    "version": 3
   },
   "file_extension": ".py",
   "mimetype": "text/x-python",
   "name": "python",
   "nbconvert_exporter": "python",
   "pygments_lexer": "ipython3",
   "version": "3.6.5"
  }
 },
 "nbformat": 4,
 "nbformat_minor": 2
}
